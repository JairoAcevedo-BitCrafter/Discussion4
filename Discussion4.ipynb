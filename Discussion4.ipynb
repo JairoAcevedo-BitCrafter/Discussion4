{
  "cells": [
    {
      "cell_type": "markdown",
      "metadata": {
        "id": "view-in-github",
        "colab_type": "text"
      },
      "source": [
        "<a href=\"https://colab.research.google.com/github/JairoAcevedo-BitCrafter/Discussion4/blob/main/Discussion4.ipynb\" target=\"_parent\"><img src=\"https://colab.research.google.com/assets/colab-badge.svg\" alt=\"Open In Colab\"/></a>"
      ]
    },
    {
      "cell_type": "code",
      "execution_count": null,
      "metadata": {
        "colab": {
          "base_uri": "https://localhost:8080/"
        },
        "id": "QwGoIguIH7YX",
        "outputId": "1257a57a-43a0-4488-a463-0d77bc358e1e"
      },
      "outputs": [
        {
          "output_type": "stream",
          "name": "stdout",
          "text": [
            "Requirement already satisfied: torch in /usr/local/lib/python3.10/dist-packages (2.0.1+cu118)\n",
            "Requirement already satisfied: transformers in /usr/local/lib/python3.10/dist-packages (4.33.2)\n",
            "Requirement already satisfied: filelock in /usr/local/lib/python3.10/dist-packages (from torch) (3.12.2)\n",
            "Requirement already satisfied: typing-extensions in /usr/local/lib/python3.10/dist-packages (from torch) (4.5.0)\n",
            "Requirement already satisfied: sympy in /usr/local/lib/python3.10/dist-packages (from torch) (1.12)\n",
            "Requirement already satisfied: networkx in /usr/local/lib/python3.10/dist-packages (from torch) (3.1)\n",
            "Requirement already satisfied: jinja2 in /usr/local/lib/python3.10/dist-packages (from torch) (3.1.2)\n",
            "Requirement already satisfied: triton==2.0.0 in /usr/local/lib/python3.10/dist-packages (from torch) (2.0.0)\n",
            "Requirement already satisfied: cmake in /usr/local/lib/python3.10/dist-packages (from triton==2.0.0->torch) (3.27.4.1)\n",
            "Requirement already satisfied: lit in /usr/local/lib/python3.10/dist-packages (from triton==2.0.0->torch) (16.0.6)\n",
            "Requirement already satisfied: huggingface-hub<1.0,>=0.15.1 in /usr/local/lib/python3.10/dist-packages (from transformers) (0.17.1)\n",
            "Requirement already satisfied: numpy>=1.17 in /usr/local/lib/python3.10/dist-packages (from transformers) (1.23.5)\n",
            "Requirement already satisfied: packaging>=20.0 in /usr/local/lib/python3.10/dist-packages (from transformers) (23.1)\n",
            "Requirement already satisfied: pyyaml>=5.1 in /usr/local/lib/python3.10/dist-packages (from transformers) (6.0.1)\n",
            "Requirement already satisfied: regex!=2019.12.17 in /usr/local/lib/python3.10/dist-packages (from transformers) (2023.6.3)\n",
            "Requirement already satisfied: requests in /usr/local/lib/python3.10/dist-packages (from transformers) (2.31.0)\n",
            "Requirement already satisfied: tokenizers!=0.11.3,<0.14,>=0.11.1 in /usr/local/lib/python3.10/dist-packages (from transformers) (0.13.3)\n",
            "Requirement already satisfied: safetensors>=0.3.1 in /usr/local/lib/python3.10/dist-packages (from transformers) (0.3.3)\n",
            "Requirement already satisfied: tqdm>=4.27 in /usr/local/lib/python3.10/dist-packages (from transformers) (4.66.1)\n",
            "Requirement already satisfied: fsspec in /usr/local/lib/python3.10/dist-packages (from huggingface-hub<1.0,>=0.15.1->transformers) (2023.6.0)\n",
            "Requirement already satisfied: MarkupSafe>=2.0 in /usr/local/lib/python3.10/dist-packages (from jinja2->torch) (2.1.3)\n",
            "Requirement already satisfied: charset-normalizer<4,>=2 in /usr/local/lib/python3.10/dist-packages (from requests->transformers) (3.2.0)\n",
            "Requirement already satisfied: idna<4,>=2.5 in /usr/local/lib/python3.10/dist-packages (from requests->transformers) (3.4)\n",
            "Requirement already satisfied: urllib3<3,>=1.21.1 in /usr/local/lib/python3.10/dist-packages (from requests->transformers) (2.0.4)\n",
            "Requirement already satisfied: certifi>=2017.4.17 in /usr/local/lib/python3.10/dist-packages (from requests->transformers) (2023.7.22)\n",
            "Requirement already satisfied: mpmath>=0.19 in /usr/local/lib/python3.10/dist-packages (from sympy->torch) (1.3.0)\n"
          ]
        }
      ],
      "source": [
        "!pip install torch transformers"
      ]
    },
    {
      "cell_type": "code",
      "execution_count": null,
      "metadata": {
        "colab": {
          "base_uri": "https://localhost:8080/"
        },
        "id": "z88z_xWgJD1R",
        "outputId": "74e53693-8784-4152-b256-03b93c21b34f"
      },
      "outputs": [
        {
          "output_type": "stream",
          "name": "stderr",
          "text": [
            "/usr/local/lib/python3.10/dist-packages/transformers/models/t5/tokenization_t5_fast.py:158: FutureWarning: This tokenizer was incorrectly instantiated with a model max length of 512 which will be corrected in Transformers v5.\n",
            "For now, this behavior is kept to avoid breaking backwards compatibility when padding/encoding with `truncation is True`.\n",
            "- Be aware that you SHOULD NOT rely on t5-base automatically truncating your input to 512 when padding/encoding.\n",
            "- If you want to encode/pad to sequences longer than 512 you can either instantiate this tokenizer with `model_max_length` or pass `max_length` when encoding/padding.\n",
            "- To avoid this warning, please instantiate this tokenizer with `model_max_length` set to your preferred value.\n",
            "  warnings.warn(\n",
            "/usr/local/lib/python3.10/dist-packages/transformers/models/auto/modeling_auto.py:1479: FutureWarning: The class `AutoModelWithLMHead` is deprecated and will be removed in a future version. Please use `AutoModelForCausalLM` for causal language models, `AutoModelForMaskedLM` for masked language models and `AutoModelForSeq2SeqLM` for encoder-decoder models.\n",
            "  warnings.warn(\n"
          ]
        }
      ],
      "source": [
        "import torch\n",
        "from transformers import AutoTokenizer, AutoModelWithLMHead\n",
        "tokenizer = AutoTokenizer.from_pretrained('t5-base')\n",
        "model = AutoModelWithLMHead.from_pretrained('t5-base', return_dict=True)"
      ]
    },
    {
      "cell_type": "code",
      "execution_count": null,
      "metadata": {
        "id": "qMEWmCU4G-lc"
      },
      "outputs": [],
      "source": [
        "article= \"\"\"\n",
        "Gabriel García Márquez, (born March 6, 1927, Aracataca, Colombia—died April 17, 2014, Mexico City, Mexico), Colombian novelist and one of the greatest writers of the 20th century, who was awarded the Nobel Prize for Literature in 1982, mostly for his masterpiece Cien años de soledad (1967; One Hundred Years of Solitude). He was the fourth Latin American to be so honoured, having been preceded by Chilean poets Gabriela Mistral in 1945 and Pablo Neruda in 1971 and by Guatemalan novelist Miguel Ángel Asturias in 1967. With Jorge Luis Borges, García Márquez is the best-known Latin American writer in history. In addition to his masterly approach to the novel, he was a superb crafter of short stories and an accomplished journalist. In both his shorter and longer fictions, García Márquez achieved the rare feat of being accessible to the common reader while satisfying the most demanding of sophisticated critics.\n",
        "Life\n",
        "Born in the sleepy provincial town of Aracataca, Colombia, García Márquez and his parents spent the first eight years of his life with his maternal grandparents, Colonel Nicolás Márquez (a veteran of the War of a Thousand Days [1899–1903]) and Tranquilina Iguarán Cotes de Márquez. After Nicolás’s death, they moved to Barranquilla, a river port. He received a better-than-average education but claimed as an adult that his most important literary sources were the stories about Aracataca and his family that Nicolás had told him. Although he studied law, García Márquez became a journalist, the trade at which he earned his living before attaining literary fame. As a correspondent in Paris during the 1950s, he expanded his education, reading a great deal of American literature, some of it in French translation. In the late 1950s and early ’60s, he worked in Bogotá, Colombia, and then in New York City for Prensa Latina, the news service created by the regime of Cuban leader Fidel Castro. Later he moved to Mexico City, where he wrote the novel that brought him fame and wealth. From 1967 to 1975 he lived in Spain. Subsequently he kept a house in Mexico City and an apartment in Paris, but he also spent much time in Havana, where Castro (whom García Márquez supported) provided him with a mansion.\n",
        "Works\n",
        "Before 1967 García Márquez had published two novels, La hojarasca (1955; The Leaf Storm) and La mala hora (1962; In Evil Hour); a novella, El coronel no tiene quien le escriba (1961; No One Writes to the Colonel); and a few short stories. Then came One Hundred Years of Solitude, in which García Márquez tells the story of Macondo, an isolated town whose history is like the history of Latin America on a reduced scale. While the setting is realistic, there are fantastic episodes, a combination that has come to be known as “magic realism,” wrongly thought to be the peculiar feature of all Latin American literature. Mixing historical facts and stories with instances of the fantastic is a practice that García Márquez derived from Cuban master Alejo Carpentier, considered to be one of the founders of magic realism. The inhabitants of Macondo are driven by elemental passions—lust, greed, thirst for power—which are thwarted by crude societal, political, or natural forces, as in Greek tragedy and myth.\n",
        "Continuing his magisterial output, García Márquez issued El otoño del patriarca (1975; The Autumn of the Patriarch), Crónica de una muerte anunciada (1981; Chronicle of a Death Foretold), El amor en los tiempos del cólera (1985; Love in the Time of Cholera; filmed 2007), El general en su laberinto (1989; The General in His Labyrinth), and Del amor y otros demonios (1994; Of Love and Other Demons). The best among those books are Love in the Time of Cholera, about a touching love affair that takes decades to be consummated, and The General in His Labyrinth, a chronicle of Simón Bolívar’s last days. In 1996 García Márquez published a journalistic chronicle of drug-related kidnappings in his native Colombia, Noticia de un secuestro (News of a Kidnapping).\n",
        "Roberto González Echevarría\n",
        "After being diagnosed with cancer in 1999, García Márquez wrote the memoir Vivir para contarla (2002; Living to Tell the Tale), which focuses on his first 30 years. He returned to fiction with Memoria de mis putas tristes (2004; Memories of My Melancholy Whores), a novel about a lonely man who finally discovers the meaning of love when he hires a virginal prostitute to celebrate his 90th birthday.\n",
        "García Márquez was known for his capacity to create vast, minutely woven plots and brief, tightly knit narratives in the fashion of his two North American models, William Faulkner and Ernest Hemingway. The easy flow of even the most intricate of his stories has been compared to that of Miguel de Cervantes, as have his irony and overall humour. García Márquez’s novelistic world is mostly that of provincial Colombia, where medieval and modern practices and beliefs clash both comically and tragically.\n",
        "\"\"\""
      ]
    },
    {
      "cell_type": "code",
      "source": [
        "inputs = tokenizer.encode(\"summarize: \" + article, return_tensors='pt', max_length=1024, truncation=True)\n",
        "summary_ids = model.generate(inputs, max_length=150, min_length=80, length_penalty=5.0, num_beams=2)\n",
        "summary = tokenizer.decode(summary_ids[0], skip_special_tokens=True)"
      ],
      "metadata": {
        "id": "9BdDnXIqdMAL"
      },
      "execution_count": null,
      "outputs": []
    },
    {
      "cell_type": "code",
      "execution_count": null,
      "metadata": {
        "colab": {
          "base_uri": "https://localhost:8080/"
        },
        "id": "02mA3kmhJneg",
        "outputId": "e774e454-2725-4ca8-b02c-0671b1d656e8"
      },
      "outputs": [
        {
          "output_type": "stream",
          "name": "stdout",
          "text": [
            "he was awarded the Nobel Prize for literature in 1982\n",
            " he was the fourth Latin american to be so honoured\n",
            " he was a superb crafter of short stories and an accomplished journalist\n",
            " he is best-known for his work on the espionage of the sex slaves\n",
            " he is survived by his wife, a daughter and a son\n",
            "\n"
          ]
        }
      ],
      "source": [
        "summaries = summary.split(\".\")\n",
        "for text in summaries:\n",
        "    print(text)"
      ]
    }
  ],
  "metadata": {
    "colab": {
      "provenance": [],
      "authorship_tag": "ABX9TyPvnUiBKpCn8GTIPp4X6cKI",
      "include_colab_link": true
    },
    "kernelspec": {
      "display_name": "Python 3",
      "name": "python3"
    },
    "language_info": {
      "name": "python"
    }
  },
  "nbformat": 4,
  "nbformat_minor": 0
}